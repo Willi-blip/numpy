{
  "nbformat": 4,
  "nbformat_minor": 0,
  "metadata": {
    "colab": {
      "provenance": [],
      "authorship_tag": "ABX9TyPyN34cPU3Ms5jm28DHlCRv",
      "include_colab_link": true
    },
    "kernelspec": {
      "name": "python3",
      "display_name": "Python 3"
    },
    "language_info": {
      "name": "python"
    }
  },
  "cells": [
    {
      "cell_type": "markdown",
      "metadata": {
        "id": "view-in-github",
        "colab_type": "text"
      },
      "source": [
        "<a href=\"https://colab.research.google.com/github/Willi-blip/numpy/blob/main/Ejercicios_basicos.ipynb\" target=\"_parent\"><img src=\"https://colab.research.google.com/assets/colab-badge.svg\" alt=\"Open In Colab\"/></a>"
      ]
    },
    {
      "cell_type": "code",
      "execution_count": null,
      "metadata": {
        "id": "l0-KnhzstdC9"
      },
      "outputs": [],
      "source": []
    },
    {
      "cell_type": "markdown",
      "source": [
        "NumPY, Libreria de ciencia de datos"
      ],
      "metadata": {
        "id": "ebHxnWk6uA8c"
      }
    },
    {
      "cell_type": "code",
      "source": [
        "import numpy as np\n",
        "#pip install numpy"
      ],
      "metadata": {
        "id": "Yhvi-MBBujfR"
      },
      "execution_count": 2,
      "outputs": []
    },
    {
      "cell_type": "markdown",
      "source": [
        "ARRAYS DE 1 DIMENSION"
      ],
      "metadata": {
        "id": "2g3OWcp-wrp0"
      }
    },
    {
      "cell_type": "code",
      "source": [
        "array_id=np.array([10,20,30])\n",
        "print(array_id)"
      ],
      "metadata": {
        "colab": {
          "base_uri": "https://localhost:8080/"
        },
        "id": "MWCbAPQhv1XX",
        "outputId": "4559235b-f8bc-499d-aa22-91eab46f0081"
      },
      "execution_count": 3,
      "outputs": [
        {
          "output_type": "stream",
          "name": "stdout",
          "text": [
            "[10 20 30]\n"
          ]
        }
      ]
    },
    {
      "cell_type": "code",
      "source": [
        "array_id"
      ],
      "metadata": {
        "id": "miVqTD6ownNP",
        "colab": {
          "base_uri": "https://localhost:8080/"
        },
        "outputId": "a38ad2c3-fdbc-4587-f362-7f17347d5145"
      },
      "execution_count": 4,
      "outputs": [
        {
          "output_type": "execute_result",
          "data": {
            "text/plain": [
              "array([10, 20, 30])"
            ]
          },
          "metadata": {},
          "execution_count": 4
        }
      ]
    },
    {
      "cell_type": "markdown",
      "source": [
        "ARRAYS DE 2 DIMENSIONES"
      ],
      "metadata": {
        "id": "cJdVn-cyw_AA"
      }
    },
    {
      "cell_type": "code",
      "source": [
        "array_2d=np.array([(10,20,30),(40,50,50)])\n",
        "array_2d"
      ],
      "metadata": {
        "colab": {
          "base_uri": "https://localhost:8080/"
        },
        "id": "Kae0_N15xChQ",
        "outputId": "95ee20d8-7dd3-4ba7-f19e-0d2464f9969b"
      },
      "execution_count": 5,
      "outputs": [
        {
          "output_type": "execute_result",
          "data": {
            "text/plain": [
              "array([[10, 20, 30],\n",
              "       [40, 50, 50]])"
            ]
          },
          "metadata": {},
          "execution_count": 5
        }
      ]
    },
    {
      "cell_type": "markdown",
      "source": [
        "ARRATS DE 3 DIMENSIONES"
      ],
      "metadata": {
        "id": "iQ-F-NMqx0vk"
      }
    },
    {
      "cell_type": "code",
      "source": [
        "array_3d=np.array([(10,20,30),(40,50,60),(70,80,90)],dtype=float)\n",
        "array_3d"
      ],
      "metadata": {
        "colab": {
          "base_uri": "https://localhost:8080/"
        },
        "id": "ECflqkKYx49b",
        "outputId": "5d0b9398-3ab0-4298-e00c-03557308232b"
      },
      "execution_count": 21,
      "outputs": [
        {
          "output_type": "execute_result",
          "data": {
            "text/plain": [
              "array([[10., 20., 30.],\n",
              "       [40., 50., 60.],\n",
              "       [70., 80., 90.]])"
            ]
          },
          "metadata": {},
          "execution_count": 21
        }
      ]
    },
    {
      "cell_type": "markdown",
      "source": [
        "ARRAY CON 0 DE 3 FILAS 4 CULUMNAS"
      ],
      "metadata": {
        "id": "PxRXgIG94RVX"
      }
    },
    {
      "cell_type": "code",
      "source": [
        "np.zeros((3,4))"
      ],
      "metadata": {
        "colab": {
          "base_uri": "https://localhost:8080/"
        },
        "id": "SAZMHOYE4Zam",
        "outputId": "f0c662e0-f73f-41e8-f0f6-6c6f0fface10"
      },
      "execution_count": 20,
      "outputs": [
        {
          "output_type": "execute_result",
          "data": {
            "text/plain": [
              "array([[0., 0., 0., 0.],\n",
              "       [0., 0., 0., 0.],\n",
              "       [0., 0., 0., 0.]])"
            ]
          },
          "metadata": {},
          "execution_count": 20
        }
      ]
    },
    {
      "cell_type": "code",
      "source": [
        "print(np.zeros((3,4)))"
      ],
      "metadata": {
        "colab": {
          "base_uri": "https://localhost:8080/"
        },
        "id": "wFbO0_bo4n2u",
        "outputId": "8ab0620c-e0e8-4e35-b1d0-4f90d0d79420"
      },
      "execution_count": 19,
      "outputs": [
        {
          "output_type": "stream",
          "name": "stdout",
          "text": [
            "[[0. 0. 0. 0.]\n",
            " [0. 0. 0. 0.]\n",
            " [0. 0. 0. 0.]]\n"
          ]
        }
      ]
    },
    {
      "cell_type": "markdown",
      "source": [
        "ARRAY DE UNOS CON2 DIMENSIONES 4 FILAS 5 COLUMNAS"
      ],
      "metadata": {
        "id": "VUajhkNk42S_"
      }
    },
    {
      "cell_type": "markdown",
      "source": [],
      "metadata": {
        "id": "JJd9KptM5WsY"
      }
    },
    {
      "cell_type": "code",
      "source": [
        "np.ones([2,4,5])"
      ],
      "metadata": {
        "colab": {
          "base_uri": "https://localhost:8080/"
        },
        "id": "prBQSFRA4-RQ",
        "outputId": "76f53252-6886-4b39-ce51-02fa37944595"
      },
      "execution_count": 18,
      "outputs": [
        {
          "output_type": "execute_result",
          "data": {
            "text/plain": [
              "array([[[1., 1., 1., 1., 1.],\n",
              "        [1., 1., 1., 1., 1.],\n",
              "        [1., 1., 1., 1., 1.],\n",
              "        [1., 1., 1., 1., 1.]],\n",
              "\n",
              "       [[1., 1., 1., 1., 1.],\n",
              "        [1., 1., 1., 1., 1.],\n",
              "        [1., 1., 1., 1., 1.],\n",
              "        [1., 1., 1., 1., 1.]]])"
            ]
          },
          "metadata": {},
          "execution_count": 18
        }
      ]
    },
    {
      "cell_type": "markdown",
      "source": [
        "ARRAYS INTERVALOS Y SALTOS"
      ],
      "metadata": {
        "id": "BXvldQvk5Z7J"
      }
    },
    {
      "cell_type": "code",
      "source": [
        "np.arange(11,30,2)"
      ],
      "metadata": {
        "colab": {
          "base_uri": "https://localhost:8080/"
        },
        "id": "7xeiQJuz5y0S",
        "outputId": "d9ac90da-6696-4b65-971e-5d669d3fba35"
      },
      "execution_count": 16,
      "outputs": [
        {
          "output_type": "execute_result",
          "data": {
            "text/plain": [
              "array([11, 13, 15, 17, 19, 21, 23, 25, 27, 29])"
            ]
          },
          "metadata": {},
          "execution_count": 16
        }
      ]
    },
    {
      "cell_type": "markdown",
      "source": [
        "ARRAYS CON INTERVALOS Y DIVISIONES"
      ],
      "metadata": {
        "id": "fnxKHQLV7-r4"
      }
    },
    {
      "cell_type": "code",
      "source": [
        "np.linspace(0,4,7)"
      ],
      "metadata": {
        "colab": {
          "base_uri": "https://localhost:8080/"
        },
        "id": "zmrs4yp-8EdK",
        "outputId": "23d35a85-75bf-448e-bbb8-2acf9897908a"
      },
      "execution_count": 17,
      "outputs": [
        {
          "output_type": "execute_result",
          "data": {
            "text/plain": [
              "array([0.        , 0.66666667, 1.33333333, 2.        , 2.66666667,\n",
              "       3.33333333, 4.        ])"
            ]
          },
          "metadata": {},
          "execution_count": 17
        }
      ]
    },
    {
      "cell_type": "markdown",
      "source": [
        "ARRAY CON VALORES DADOS"
      ],
      "metadata": {
        "id": "uqQ1s-pH8j2B"
      }
    },
    {
      "cell_type": "code",
      "source": [
        "np.full([3,3],7)"
      ],
      "metadata": {
        "colab": {
          "base_uri": "https://localhost:8080/"
        },
        "id": "et_INOlZ8pki",
        "outputId": "edffabdc-f6f2-4eab-bd50-f2c99363d336"
      },
      "execution_count": 15,
      "outputs": [
        {
          "output_type": "execute_result",
          "data": {
            "text/plain": [
              "array([[7, 7, 7],\n",
              "       [7, 7, 7],\n",
              "       [7, 7, 7]])"
            ]
          },
          "metadata": {},
          "execution_count": 15
        }
      ]
    },
    {
      "cell_type": "markdown",
      "source": [
        "ARRAY MATRIZ IDENTIDAD, DIAGONAL, DE UNOS"
      ],
      "metadata": {
        "id": "GKPvKUhv87Tr"
      }
    },
    {
      "cell_type": "code",
      "source": [
        "np.eye(3)"
      ],
      "metadata": {
        "colab": {
          "base_uri": "https://localhost:8080/"
        },
        "id": "zeg07ybf9Tlz",
        "outputId": "d5358d85-037f-4085-cc8a-78dd92a7ccb4"
      },
      "execution_count": 14,
      "outputs": [
        {
          "output_type": "execute_result",
          "data": {
            "text/plain": [
              "array([[1., 0., 0.],\n",
              "       [0., 1., 0.],\n",
              "       [0., 0., 1.]])"
            ]
          },
          "metadata": {},
          "execution_count": 14
        }
      ]
    },
    {
      "cell_type": "markdown",
      "source": [
        "ARRAY VALORES ALEATORIOS"
      ],
      "metadata": {
        "id": "GG6ProXJ-fou"
      }
    },
    {
      "cell_type": "code",
      "source": [
        "np.random.random((4,4))"
      ],
      "metadata": {
        "colab": {
          "base_uri": "https://localhost:8080/"
        },
        "id": "7EZK482H-j9O",
        "outputId": "97bd32ce-30f6-4056-d25e-90546293ab21"
      },
      "execution_count": 13,
      "outputs": [
        {
          "output_type": "execute_result",
          "data": {
            "text/plain": [
              "array([[0.60514993, 0.53066381, 0.3716438 , 0.30570914],\n",
              "       [0.77986464, 0.74715728, 0.95160871, 0.94113305],\n",
              "       [0.21380297, 0.94062382, 0.37928784, 0.51552775],\n",
              "       [0.5057371 , 0.59553668, 0.68879215, 0.77782114]])"
            ]
          },
          "metadata": {},
          "execution_count": 13
        }
      ]
    },
    {
      "cell_type": "markdown",
      "source": [
        "ARRAY NUMEROS VACIOS 4*3"
      ],
      "metadata": {
        "id": "genxNk1N_EtH"
      }
    },
    {
      "cell_type": "code",
      "source": [
        "np.empty((4,3))"
      ],
      "metadata": {
        "colab": {
          "base_uri": "https://localhost:8080/"
        },
        "id": "DX_rE4X8_KT3",
        "outputId": "f050f920-3d4a-4ae3-a06c-b85d66b43a73"
      },
      "execution_count": 12,
      "outputs": [
        {
          "output_type": "execute_result",
          "data": {
            "text/plain": [
              "array([[6.87486520e-310, 0.00000000e+000, 2.10077583e-312],\n",
              "       [6.79038654e-313, 2.22809558e-312, 2.14321575e-312],\n",
              "       [2.35541533e-312, 6.79038654e-313, 2.22809558e-312],\n",
              "       [2.14321575e-312, 2.46151512e-312, 2.41907520e-312]])"
            ]
          },
          "metadata": {},
          "execution_count": 12
        }
      ]
    },
    {
      "cell_type": "markdown",
      "source": [
        "GRABAR Y CARGAR"
      ],
      "metadata": {
        "id": "9wX0n9v-BePX"
      }
    },
    {
      "cell_type": "code",
      "source": [
        "#grabar\n",
        "np.save('mi_array_3d',array_3d)"
      ],
      "metadata": {
        "id": "6Q9O5CKxBheE"
      },
      "execution_count": 23,
      "outputs": []
    },
    {
      "cell_type": "code",
      "source": [
        "#cargar\n",
        "mi_array=np.load('mi_array_3d.npy')\n",
        "mi_array"
      ],
      "metadata": {
        "colab": {
          "base_uri": "https://localhost:8080/"
        },
        "id": "dLVFZcU4CtO-",
        "outputId": "a1e400ff-2296-4206-ce91-4bdc0e3d5a8f"
      },
      "execution_count": 24,
      "outputs": [
        {
          "output_type": "execute_result",
          "data": {
            "text/plain": [
              "array([[10., 20., 30.],\n",
              "       [40., 50., 60.],\n",
              "       [70., 80., 90.]])"
            ]
          },
          "metadata": {},
          "execution_count": 24
        }
      ]
    },
    {
      "cell_type": "code",
      "source": [
        "np.save('mi_array_2d',array_2d)"
      ],
      "metadata": {
        "id": "ULr874E_EL8p"
      },
      "execution_count": null,
      "outputs": []
    },
    {
      "cell_type": "code",
      "source": [
        "mi_array=np.load('mi_array_2d.npy')\n",
        "mi_array"
      ],
      "metadata": {
        "colab": {
          "base_uri": "https://localhost:8080/"
        },
        "id": "2p1iG83wEllJ",
        "outputId": "b6ab4920-2ddb-4c5e-c647-35869bc28690"
      },
      "execution_count": null,
      "outputs": [
        {
          "output_type": "execute_result",
          "data": {
            "text/plain": [
              "array([[10, 20, 30],\n",
              "       [40, 50, 50]])"
            ]
          },
          "metadata": {},
          "execution_count": 56
        }
      ]
    },
    {
      "cell_type": "markdown",
      "source": [
        "GRABAR Y CARGAR FICHEROS DE TEXTOS"
      ],
      "metadata": {
        "id": "pnFRLXIQE4aS"
      }
    },
    {
      "cell_type": "code",
      "source": [
        "#grabar el fichero de texto\n",
        "np.savetxt('mi_array.txt',array_2d,delimiter=' ')"
      ],
      "metadata": {
        "id": "ABidjOwcE-ah"
      },
      "execution_count": null,
      "outputs": []
    },
    {
      "cell_type": "code",
      "source": [
        "#cargar el fichero de texto\n",
        "np.loadtxt('mi_array.txt')"
      ],
      "metadata": {
        "colab": {
          "base_uri": "https://localhost:8080/"
        },
        "id": "zcGYdo-zGJ6q",
        "outputId": "0deb68c7-0b6d-4270-e992-72856ca1f836"
      },
      "execution_count": null,
      "outputs": [
        {
          "output_type": "execute_result",
          "data": {
            "text/plain": [
              "array([[10., 20., 30.],\n",
              "       [40., 50., 50.]])"
            ]
          },
          "metadata": {},
          "execution_count": 58
        }
      ]
    },
    {
      "cell_type": "markdown",
      "source": [
        "EJECICIOS PROPUETO"
      ],
      "metadata": {
        "id": "_GAet8vORmL-"
      }
    },
    {
      "cell_type": "code",
      "source": [
        "asignaturas = [\"Matemáticas\", \"Física\", \"Química\", \"Historia\", \"Lengua\"]\n",
        "asignaturas"
      ],
      "metadata": {
        "colab": {
          "base_uri": "https://localhost:8080/"
        },
        "id": "GsUsVtkeRpuG",
        "outputId": "18f39bfb-68f8-40a8-f05a-6bd2cd05bff0"
      },
      "execution_count": null,
      "outputs": [
        {
          "output_type": "execute_result",
          "data": {
            "text/plain": [
              "['Matemáticas', 'Física', 'Química', 'Historia', 'Lengua']"
            ]
          },
          "metadata": {},
          "execution_count": 59
        }
      ]
    },
    {
      "cell_type": "code",
      "source": [
        "for asignatura in asignaturas:\n",
        "    print(\"Yo estudio \" + asignatura)"
      ],
      "metadata": {
        "colab": {
          "base_uri": "https://localhost:8080/"
        },
        "id": "DqpeGMj-SXEO",
        "outputId": "bdbf611f-3fd1-48be-8a48-70a5916b57cf"
      },
      "execution_count": null,
      "outputs": [
        {
          "output_type": "stream",
          "name": "stdout",
          "text": [
            "Yo estudio Matemáticas\n",
            "Yo estudio Física\n",
            "Yo estudio Química\n",
            "Yo estudio Historia\n",
            "Yo estudio Lengua\n"
          ]
        }
      ]
    },
    {
      "cell_type": "code",
      "source": [
        "notas = []\n",
        "for asignatura in asignaturas:\n",
        "  nota = input(\"¿Qué nota has sacado en {}? \".format(asignatura))\n",
        "  notas.append(nota)\n",
        "\n",
        "for i in range(len(asignaturas)):\n",
        "  print(\"En {} has sacado: {}\".format(asignaturas[i], notas[i]))"
      ],
      "metadata": {
        "colab": {
          "base_uri": "https://localhost:8080/"
        },
        "id": "hiqm_BWrSywn",
        "outputId": "ac27c5ab-877c-4e3b-89be-f18bc56d72ea"
      },
      "execution_count": null,
      "outputs": [
        {
          "output_type": "stream",
          "name": "stdout",
          "text": [
            "¿Qué nota has sacado en Matemáticas? 15\n",
            "¿Qué nota has sacado en Física? 15\n",
            "¿Qué nota has sacado en Química? 14\n",
            "¿Qué nota has sacado en Historia? 13\n",
            "¿Qué nota has sacado en Lengua? 16\n",
            "En Matemáticas has sacado: 15\n",
            "En Física has sacado: 15\n",
            "En Química has sacado: 14\n",
            "En Historia has sacado: 13\n",
            "En Lengua has sacado: 16\n"
          ]
        }
      ]
    },
    {
      "cell_type": "code",
      "source": [
        "numeros_ganadores = []\n",
        "while len(numeros_ganadores) < 6:\n",
        "  try:\n",
        "    numero = int(input(f\"Introduce el número {len(numeros_ganadores) + 1} de la lotería: \"))\n",
        "    if 1 <= numero <= 50 and numero not in numeros_ganadores:\n",
        "      numeros_ganadores.append(numero)\n",
        "    elif numero in numeros_ganadores:\n",
        "      print(\"Ese número ya ha sido introducido. Introduce uno diferente.\")\n",
        "    else:\n",
        "      print(\"El número debe estar entre 1 y 50.\")\n",
        "  except ValueError:\n",
        "    print(\"Entrada no válida. Por favor, introduce un número entero.\")\n",
        "\n",
        "numeros_ganadores.sort()\n",
        "print(\"Los números ganadores de la lotería primitiva son:\")\n",
        "numeros_ganadores\n"
      ],
      "metadata": {
        "colab": {
          "base_uri": "https://localhost:8080/"
        },
        "id": "NetpwkZHUP1I",
        "outputId": "8288316c-e498-40b7-f46e-5dd63c39fed2"
      },
      "execution_count": null,
      "outputs": [
        {
          "output_type": "stream",
          "name": "stdout",
          "text": [
            "Introduce el número 1 de la lotería: 1\n",
            "Introduce el número 2 de la lotería: 5\n",
            "Introduce el número 3 de la lotería: 49\n",
            "Introduce el número 4 de la lotería: 7\n",
            "Introduce el número 5 de la lotería: 23\n",
            "Introduce el número 6 de la lotería: 24\n",
            "Los números ganadores de la lotería primitiva son:\n"
          ]
        },
        {
          "output_type": "execute_result",
          "data": {
            "text/plain": [
              "[1, 5, 7, 23, 24, 49]"
            ]
          },
          "metadata": {},
          "execution_count": 63
        }
      ]
    },
    {
      "cell_type": "code",
      "source": [
        "numeros = list(range(1, 11))\n",
        "numeros.reverse()\n",
        "print(\",\".join(map(str, numeros)))"
      ],
      "metadata": {
        "colab": {
          "base_uri": "https://localhost:8080/"
        },
        "id": "8aPUfSglV7KZ",
        "outputId": "eec93dce-2fea-41a7-e3f3-2c0d5ef278db"
      },
      "execution_count": null,
      "outputs": [
        {
          "output_type": "stream",
          "name": "stdout",
          "text": [
            "1,2,3,4,5,6,7,8,9,10\n"
          ]
        }
      ]
    },
    {
      "cell_type": "code",
      "source": [
        "asignaturas = [\"Matemáticas\", \"Física\", \"Química\", \"Historia\", \"Lengua\"]\n",
        "notas = []\n",
        "for asignatura in asignaturas:\n",
        "    while True:\n",
        "        try:\n",
        "            nota = float(input(f\"¿Qué nota has sacado en {asignatura}? \"))\n",
        "            if 0 <= nota <= 20:\n",
        "                notas.append(nota)\n",
        "                break\n",
        "            else:\n",
        "                print(\"Por favor, introduce una nota entre 0 y 10.\")\n",
        "        except ValueError:\n",
        "            print(\"Entrada no válida. Por favor, introduce un número para la nota.\")\n",
        "\n",
        "asignaturas_a_repetir = []\n",
        "for i in range(len(asignaturas)):\n",
        "    if notas[i] < 10:\n",
        "        asignaturas_a_repetir.append(asignaturas[i])\n",
        "\n",
        "if asignaturas_a_repetir:\n",
        "    print(\"\\nAsignaturas que tienes que repetir:\")\n",
        "    for asignatura in asignaturas_a_repetir:\n",
        "        print(asignatura)\n",
        "else:\n",
        "    print(\"\\n¡Enhorabuena! Has aprobado todas las asignaturas.\")"
      ],
      "metadata": {
        "colab": {
          "base_uri": "https://localhost:8080/"
        },
        "id": "u8I_jmYmXV8K",
        "outputId": "e313314c-ebbe-4e74-c449-5b02bc336510"
      },
      "execution_count": null,
      "outputs": [
        {
          "output_type": "stream",
          "name": "stdout",
          "text": [
            "¿Qué nota has sacado en Matemáticas? 9\n",
            "¿Qué nota has sacado en Física? 15\n",
            "¿Qué nota has sacado en Química? 15\n",
            "¿Qué nota has sacado en Historia? 20\n",
            "¿Qué nota has sacado en Lengua? 8\n",
            "\n",
            "Asignaturas que tienes que repetir:\n",
            "Matemáticas\n",
            "Lengua\n"
          ]
        }
      ]
    },
    {
      "cell_type": "code",
      "source": [
        "alfabeto = list('abcdefghijklmnopqrstuvwxyz')\n",
        "alfabeto_filtrado = [letra for indice, letra in enumerate(alfabeto) if (indice + 1) % 3 != 0]\n",
        "alfabeto_filtrado"
      ],
      "metadata": {
        "colab": {
          "base_uri": "https://localhost:8080/"
        },
        "id": "_uRp3-WpZWKk",
        "outputId": "92bd19fb-1513-4c5e-db77-8441527edaa3"
      },
      "execution_count": null,
      "outputs": [
        {
          "output_type": "execute_result",
          "data": {
            "text/plain": [
              "['a',\n",
              " 'b',\n",
              " 'd',\n",
              " 'e',\n",
              " 'g',\n",
              " 'h',\n",
              " 'j',\n",
              " 'k',\n",
              " 'm',\n",
              " 'n',\n",
              " 'p',\n",
              " 'q',\n",
              " 's',\n",
              " 't',\n",
              " 'v',\n",
              " 'w',\n",
              " 'y',\n",
              " 'z']"
            ]
          },
          "metadata": {},
          "execution_count": 76
        }
      ]
    },
    {
      "cell_type": "code",
      "source": [
        "palabra = input(\"Introduce una palabra: \")\n",
        "palabra = palabra.lower().replace(\" \", \"\")\n",
        "if palabra == palabra[::-1]:\n",
        "  print(\"Es un palíndromo.\")\n",
        "else:\n",
        "  print(\"No es un palíndromo.\")"
      ],
      "metadata": {
        "colab": {
          "base_uri": "https://localhost:8080/"
        },
        "id": "OEQnXbjyaWTs",
        "outputId": "0cfdd659-c6e3-4685-b7dc-78366d102e72"
      },
      "execution_count": null,
      "outputs": [
        {
          "output_type": "stream",
          "name": "stdout",
          "text": [
            "Introduce una palabra: we\n",
            "No es un palíndromo.\n"
          ]
        }
      ]
    },
    {
      "cell_type": "code",
      "source": [
        "palabra = input(\"Introduce una palabra: \").lower()\n",
        "vocales = {'a': 0, 'e': 0, 'i': 0, 'o': 0, 'u': 0}\n",
        "for letra in palabra:\n",
        "  if letra in vocales:\n",
        "    vocales[letra] += 1\n",
        "for vocal, count in vocales.items():\n",
        "  print(f\"La vocal '{vocal}' aparece {count} veces.\")"
      ],
      "metadata": {
        "colab": {
          "base_uri": "https://localhost:8080/"
        },
        "id": "TrMZduMzbQPU",
        "outputId": "4aba0901-13e3-422c-ab69-6f5c8984166b"
      },
      "execution_count": null,
      "outputs": [
        {
          "output_type": "stream",
          "name": "stdout",
          "text": [
            "Introduce una palabra: palabra\n",
            "La vocal 'a' aparece 3 veces.\n",
            "La vocal 'e' aparece 0 veces.\n",
            "La vocal 'i' aparece 0 veces.\n",
            "La vocal 'o' aparece 0 veces.\n",
            "La vocal 'u' aparece 0 veces.\n"
          ]
        }
      ]
    },
    {
      "cell_type": "code",
      "source": [
        "precios = [50, 75, 46, 22, 80, 65, 8]\n",
        "print(\"El precio menor es:\", min(precios))\n",
        "print(\"El precio mayor es:\", max(precios))"
      ],
      "metadata": {
        "colab": {
          "base_uri": "https://localhost:8080/"
        },
        "id": "F2kwRversPnP",
        "outputId": "60b5ed06-2cde-4174-9a25-98b49c1ace6a"
      },
      "execution_count": 25,
      "outputs": [
        {
          "output_type": "stream",
          "name": "stdout",
          "text": [
            "El precio menor es: 8\n",
            "El precio mayor es: 80\n"
          ]
        }
      ]
    },
    {
      "cell_type": "code",
      "source": [
        "# Vectores en listas\n",
        "vector1 = [1, 2, 3]\n",
        "vector2 = [-1, 0, 2]\n",
        "\n",
        "# Calcular el producto escalar\n",
        "producto_escalar = sum(x * y for x, y in zip(vector1, vector2))\n",
        "\n",
        "# Mostrar el resultado\n",
        "print(f\"El producto escalar de {vector1} y {vector2} es: {producto_escalar}\")"
      ],
      "metadata": {
        "colab": {
          "base_uri": "https://localhost:8080/"
        },
        "id": "uzG7iEqktJzS",
        "outputId": "21a22a8a-223d-4bb9-f4c8-1afd38ba5589"
      },
      "execution_count": 26,
      "outputs": [
        {
          "output_type": "stream",
          "name": "stdout",
          "text": [
            "El producto escalar de [1, 2, 3] y [-1, 0, 2] es: 5\n"
          ]
        }
      ]
    },
    {
      "cell_type": "code",
      "source": [
        "# Definir las matrices como listas anidadas\n",
        "matriz1 = [[1, 2],\n",
        "           [3, 4]]\n",
        "\n",
        "matriz2 = [[5, 6],\n",
        "           [7, 8]]\n",
        "\n",
        "# Almacenar las matrices en una lista\n",
        "matrices = [matriz1, matriz2]\n",
        "\n",
        "# Función para multiplicar dos matrices\n",
        "def multiplicar_matrices(matriz_a, matriz_b):\n",
        "    # Verificar si la multiplicación es posible\n",
        "    if len(matriz_a[0]) != len(matriz_b):\n",
        "        return \"No se pueden multiplicar las matrices.\"\n",
        "\n",
        "    # Inicializar la matriz resultado con ceros\n",
        "    filas_a = len(matriz_a)\n",
        "    columnas_a = len(matriz_a[0])\n",
        "    filas_b = len(matriz_b)\n",
        "    columnas_b = len(matriz_b[0])\n",
        "    matriz_resultado = [[0 for _ in range(columnas_b)] for _ in range(filas_a)]\n",
        "\n",
        "    # Realizar la multiplicación\n",
        "    for i in range(filas_a):\n",
        "        for j in range(columnas_b):\n",
        "            for k in range(columnas_a):\n",
        "                matriz_resultado[i][j] += matriz_a[i][k] * matriz_b[k][j]\n",
        "\n",
        "    return matriz_resultado\n",
        "\n",
        "# Calcular el producto de las matrices en la lista\n",
        "if len(matrices) >= 2:\n",
        "    producto = matrices[0]\n",
        "    for i in range(1, len(matrices)):\n",
        "        producto = multiplicar_matrices(producto, matrices[i])\n",
        "        if isinstance(producto, str): # Verificar si hubo error en la multiplicación\n",
        "            print(producto)\n",
        "            break\n",
        "    else:\n",
        "        print(\"El producto de las matrices es:\")\n",
        "        for fila in producto:\n",
        "            print(fila)\n",
        "elif len(matrices) == 1:\n",
        "    print(\"Solo hay una matriz en la lista:\")\n",
        "    for fila in matrices[0]:\n",
        "        print(fila)\n",
        "else:\n",
        "    print(\"La lista de matrices está vacía.\")"
      ],
      "metadata": {
        "colab": {
          "base_uri": "https://localhost:8080/"
        },
        "id": "FHqa_awFtexu",
        "outputId": "dceae269-1e57-47ec-aeb5-1277fe627e9c"
      },
      "execution_count": 27,
      "outputs": [
        {
          "output_type": "stream",
          "name": "stdout",
          "text": [
            "El producto de las matrices es:\n",
            "[19, 22]\n",
            "[43, 50]\n"
          ]
        }
      ]
    },
    {
      "cell_type": "code",
      "source": [
        "import numpy as np\n",
        "\n",
        "entrada = input(\"Introduce una muestra de números separados por comas: \")\n",
        "numeros_str = entrada.split(',')\n",
        "numeros = []\n",
        "for num_str in numeros_str:\n",
        "  try:\n",
        "    numeros.append(float(num_str.strip()))\n",
        "  except ValueError:\n",
        "    print(f\"Advertencia: '{num_str.strip()}' no es un número válido y será ignorado.\")\n",
        "\n",
        "if numeros:\n",
        "  muestra = np.array(numeros)\n",
        "  media = np.mean(muestra)\n",
        "  desviacion_tipica = np.std(muestra)\n",
        "\n",
        "  print(f\"La muestra es: {numeros}\")\n",
        "  print(f\"La media es: {media}\")\n",
        "  print(f\"La desviación típica es: {desviacion_tipica}\")\n",
        "else:\n",
        "  print(\"No se introdujeron números válidos.\")\n"
      ],
      "metadata": {
        "colab": {
          "base_uri": "https://localhost:8080/"
        },
        "id": "dDz_doLst8TL",
        "outputId": "76af75e1-b149-4b17-8340-f9799e9736f4"
      },
      "execution_count": 29,
      "outputs": [
        {
          "output_type": "stream",
          "name": "stdout",
          "text": [
            "Introduce una muestra de números separados por comas: 23,5\n",
            "La muestra es: [23.0, 5.0]\n",
            "La media es: 14.0\n",
            "La desviación típica es: 9.0\n"
          ]
        }
      ]
    }
  ]
}